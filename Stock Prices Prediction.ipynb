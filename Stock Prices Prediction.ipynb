{
 "cells": [
  {
   "cell_type": "markdown",
   "id": "698e8406-1870-4975-8295-bfb49c8feb04",
   "metadata": {},
   "source": [
    "# Step 1: Importing package\n",
    "Calls yahoo finance API to download daily stock and index finances. If we do not have the yfinance package installed, we ca use the command line below to install it."
   ]
  },
  {
   "cell_type": "code",
   "execution_count": 60,
   "id": "0134cbcd-e197-4d63-af63-94254f519643",
   "metadata": {},
   "outputs": [],
   "source": [
    "#!pip install yfinance\n",
    "import yfinance as yf "
   ]
  },
  {
   "cell_type": "markdown",
   "id": "05cd7bec-793a-4a8e-88d1-f424f816dcac",
   "metadata": {},
   "source": [
    "Next we will initialioze ticker class which enables us so download price history for a single symbol"
   ]
  },
  {
   "cell_type": "code",
   "execution_count": 61,
   "id": "8113eced-b092-4b72-ad80-e1412e14625b",
   "metadata": {},
   "outputs": [],
   "source": [
    "sp500 = yf.Ticker(\"^GSPC\")"
   ]
  },
  {
   "cell_type": "code",
   "execution_count": 62,
   "id": "b706eed2-5f2e-419b-8caf-9097217defdf",
   "metadata": {},
   "outputs": [],
   "source": [
    "#quey historical prices, query all data from beg when index was created\n",
    "sp500 = sp500.history(period = \"max\")"
   ]
  },
  {
   "cell_type": "code",
   "execution_count": 64,
   "id": "5f0ceba2-5ba4-41b6-9767-33bb54aaf16f",
   "metadata": {},
   "outputs": [],
   "source": [
    "#We can now check our dataset\n",
    "#sp500"
   ]
  },
  {
   "cell_type": "markdown",
   "id": "39907d6f-01b4-4eb0-b206-95cb60cc3789",
   "metadata": {},
   "source": [
    "Here we have each row representing the price on a trading day. We will use this pandas df to predict whether the price will go up or down tomorrow"
   ]
  },
  {
   "cell_type": "code",
   "execution_count": 65,
   "id": "1d9a029d-0988-42fc-8934-b8fef5b2cdae",
   "metadata": {},
   "outputs": [
    {
     "data": {
      "text/plain": [
       "DatetimeIndex(['1927-12-30 00:00:00-05:00', '1928-01-03 00:00:00-05:00',\n",
       "               '1928-01-04 00:00:00-05:00', '1928-01-05 00:00:00-05:00',\n",
       "               '1928-01-06 00:00:00-05:00', '1928-01-09 00:00:00-05:00',\n",
       "               '1928-01-10 00:00:00-05:00', '1928-01-11 00:00:00-05:00',\n",
       "               '1928-01-12 00:00:00-05:00', '1928-01-13 00:00:00-05:00',\n",
       "               ...\n",
       "               '2024-10-31 00:00:00-04:00', '2024-11-01 00:00:00-04:00',\n",
       "               '2024-11-04 00:00:00-05:00', '2024-11-05 00:00:00-05:00',\n",
       "               '2024-11-06 00:00:00-05:00', '2024-11-07 00:00:00-05:00',\n",
       "               '2024-11-08 00:00:00-05:00', '2024-11-11 00:00:00-05:00',\n",
       "               '2024-11-12 00:00:00-05:00', '2024-11-13 00:00:00-05:00'],\n",
       "              dtype='datetime64[ns, America/New_York]', name='Date', length=24335, freq=None)"
      ]
     },
     "execution_count": 65,
     "metadata": {},
     "output_type": "execute_result"
    }
   ],
   "source": [
    "sp500.index"
   ]
  },
  {
   "cell_type": "markdown",
   "id": "04974c97-f873-463c-bf23-250079f557b3",
   "metadata": {},
   "source": [
    "# Step 2: Cleaning our Data!\n",
    "Before we create any machine models or analyze our data, it is always important to clean and visualize your data."
   ]
  },
  {
   "cell_type": "code",
   "execution_count": 66,
   "id": "00cbd2ee-3553-49de-b6b7-fbccb95fe3f2",
   "metadata": {},
   "outputs": [
    {
     "data": {
      "text/plain": [
       "<Axes: xlabel='Date'>"
      ]
     },
     "execution_count": 66,
     "metadata": {},
     "output_type": "execute_result"
    },
    {
     "data": {
      "image/png": "[encoded data removed]",
      "text/plain": [
       "<Figure size 640x480 with 1 Axes>"
      ]
     },
     "metadata": {},
     "output_type": "display_data"
    }
   ],
   "source": [
    "sp500.plot.line(y=\"Close\", use_index = True)"
   ]
  },
  {
   "cell_type": "markdown",
   "id": "13f15527-0d9d-472f-9c21-fdb890c034a3",
   "metadata": {},
   "source": [
    "Here, the x-axis represents our index, the trading days, dates and the y axis shows the closing prices. We can officially start our data cleaning by deletung some variables we dont need."
   ]
  },
  {
   "cell_type": "code",
   "execution_count": 67,
   "id": "933dce27-4bcc-42e1-9ba5-390282a05bd5",
   "metadata": {},
   "outputs": [],
   "source": [
    "del sp500[\"Dividends\"]\n",
    "del sp500[\"Stock Splits\"]"
   ]
  },
  {
   "cell_type": "code",
   "execution_count": 69,
   "id": "8db79df9-d02b-48d3-9191-776c10144e42",
   "metadata": {},
   "outputs": [],
   "source": [
    "# Checking to see if they were deleted\n",
    "#sp500"
   ]
  },
  {
   "cell_type": "markdown",
   "id": "c54b49f6-d85f-42c8-8cea-501c3c287428",
   "metadata": {},
   "source": [
    "We can see that we checked to make sure we deleted our unnecessary columns. Our target for predicting is will the stock go up or down.Let us first start by creating a column titled \"tomorrow\". We can do this by making the \"tomorrow\" value equal to the Closing value"
   ]
  },
  {
   "cell_type": "code",
   "execution_count": 70,
   "id": "9280d978-e21d-4afb-9e03-fcb1a6f8dd74",
   "metadata": {},
   "outputs": [
    {
     "data": {
      "text/html": [
       "<div>\n",
       "<style scoped>\n",
       "    .dataframe tbody tr th:only-of-type {\n",
       "        vertical-align: middle;\n",
       "    }\n",
       "\n",
       "    .dataframe tbody tr th {\n",
       "        vertical-align: top;\n",
       "    }\n",
       "\n",
       "    .dataframe thead th {\n",
       "        text-align: right;\n",
       "    }\n",
       "</style>\n",
       "<table border=\"1\" class=\"dataframe\">\n",
       "  <thead>\n",
       "    <tr style=\"text-align: right;\">\n",
       "      <th></th>\n",
       "      <th>Open</th>\n",
       "      <th>High</th>\n",
       "      <th>Low</th>\n",
       "      <th>Close</th>\n",
       "      <th>Volume</th>\n",
       "      <th>Tomorrow</th>\n",
       "    </tr>\n",
       "    <tr>\n",
       "      <th>Date</th>\n",
       "      <th></th>\n",
       "      <th></th>\n",
       "      <th></th>\n",
       "      <th></th>\n",
       "      <th></th>\n",
       "      <th></th>\n",
       "    </tr>\n",
       "  </thead>\n",
       "  <tbody>\n",
       "    <tr>\n",
       "      <th>1927-12-30 00:00:00-05:00</th>\n",
       "      <td>17.660000</td>\n",
       "      <td>17.660000</td>\n",
       "      <td>17.660000</td>\n",
       "      <td>17.660000</td>\n",
       "      <td>0</td>\n",
       "      <td>17.760000</td>\n",
       "    </tr>\n",
       "    <tr>\n",
       "      <th>1928-01-03 00:00:00-05:00</th>\n",
       "      <td>17.760000</td>\n",
       "      <td>17.760000</td>\n",
       "      <td>17.760000</td>\n",
       "      <td>17.760000</td>\n",
       "      <td>0</td>\n",
       "      <td>17.719999</td>\n",
       "    </tr>\n",
       "    <tr>\n",
       "      <th>1928-01-04 00:00:00-05:00</th>\n",
       "      <td>17.719999</td>\n",
       "      <td>17.719999</td>\n",
       "      <td>17.719999</td>\n",
       "      <td>17.719999</td>\n",
       "      <td>0</td>\n",
       "      <td>17.549999</td>\n",
       "    </tr>\n",
       "    <tr>\n",
       "      <th>1928-01-05 00:00:00-05:00</th>\n",
       "      <td>17.549999</td>\n",
       "      <td>17.549999</td>\n",
       "      <td>17.549999</td>\n",
       "      <td>17.549999</td>\n",
       "      <td>0</td>\n",
       "      <td>17.660000</td>\n",
       "    </tr>\n",
       "    <tr>\n",
       "      <th>1928-01-06 00:00:00-05:00</th>\n",
       "      <td>17.660000</td>\n",
       "      <td>17.660000</td>\n",
       "      <td>17.660000</td>\n",
       "      <td>17.660000</td>\n",
       "      <td>0</td>\n",
       "      <td>17.500000</td>\n",
       "    </tr>\n",
       "    <tr>\n",
       "      <th>...</th>\n",
       "      <td>...</td>\n",
       "      <td>...</td>\n",
       "      <td>...</td>\n",
       "      <td>...</td>\n",
       "      <td>...</td>\n",
       "      <td>...</td>\n",
       "    </tr>\n",
       "    <tr>\n",
       "      <th>2024-11-07 00:00:00-05:00</th>\n",
       "      <td>5947.209961</td>\n",
       "      <td>5983.839844</td>\n",
       "      <td>5947.209961</td>\n",
       "      <td>5973.100098</td>\n",
       "      <td>4925740000</td>\n",
       "      <td>5995.540039</td>\n",
       "    </tr>\n",
       "    <tr>\n",
       "      <th>2024-11-08 00:00:00-05:00</th>\n",
       "      <td>5976.759766</td>\n",
       "      <td>6012.450195</td>\n",
       "      <td>5976.759766</td>\n",
       "      <td>5995.540039</td>\n",
       "      <td>4666740000</td>\n",
       "      <td>6001.350098</td>\n",
       "    </tr>\n",
       "    <tr>\n",
       "      <th>2024-11-11 00:00:00-05:00</th>\n",
       "      <td>6008.859863</td>\n",
       "      <td>6017.310059</td>\n",
       "      <td>5986.689941</td>\n",
       "      <td>6001.350098</td>\n",
       "      <td>4333000000</td>\n",
       "      <td>5983.990234</td>\n",
       "    </tr>\n",
       "    <tr>\n",
       "      <th>2024-11-12 00:00:00-05:00</th>\n",
       "      <td>6003.600098</td>\n",
       "      <td>6009.919922</td>\n",
       "      <td>5960.080078</td>\n",
       "      <td>5983.990234</td>\n",
       "      <td>4243400000</td>\n",
       "      <td>5985.379883</td>\n",
       "    </tr>\n",
       "    <tr>\n",
       "      <th>2024-11-13 00:00:00-05:00</th>\n",
       "      <td>5985.750000</td>\n",
       "      <td>6008.189941</td>\n",
       "      <td>5965.910156</td>\n",
       "      <td>5985.379883</td>\n",
       "      <td>2513682000</td>\n",
       "      <td>NaN</td>\n",
       "    </tr>\n",
       "  </tbody>\n",
       "</table>\n",
       "<p>24335 rows × 6 columns</p>\n",
       "</div>"
      ],
      "text/plain": [
       "                                  Open         High          Low        Close  \\\n",
       "Date                                                                            \n",
       "1927-12-30 00:00:00-05:00    17.660000    17.660000    17.660000    17.660000   \n",
       "1928-01-03 00:00:00-05:00    17.760000    17.760000    17.760000    17.760000   \n",
       "1928-01-04 00:00:00-05:00    17.719999    17.719999    17.719999    17.719999   \n",
       "1928-01-05 00:00:00-05:00    17.549999    17.549999    17.549999    17.549999   \n",
       "1928-01-06 00:00:00-05:00    17.660000    17.660000    17.660000    17.660000   \n",
       "...                                ...          ...          ...          ...   \n",
       "2024-11-07 00:00:00-05:00  5947.209961  5983.839844  5947.209961  5973.100098   \n",
       "2024-11-08 00:00:00-05:00  5976.759766  6012.450195  5976.759766  5995.540039   \n",
       "2024-11-11 00:00:00-05:00  6008.859863  6017.310059  5986.689941  6001.350098   \n",
       "2024-11-12 00:00:00-05:00  6003.600098  6009.919922  5960.080078  5983.990234   \n",
       "2024-11-13 00:00:00-05:00  5985.750000  6008.189941  5965.910156  5985.379883   \n",
       "\n",
       "                               Volume     Tomorrow  \n",
       "Date                                                \n",
       "1927-12-30 00:00:00-05:00           0    17.760000  \n",
       "1928-01-03 00:00:00-05:00           0    17.719999  \n",
       "1928-01-04 00:00:00-05:00           0    17.549999  \n",
       "1928-01-05 00:00:00-05:00           0    17.660000  \n",
       "1928-01-06 00:00:00-05:00           0    17.500000  \n",
       "...                               ...          ...  \n",
       "2024-11-07 00:00:00-05:00  4925740000  5995.540039  \n",
       "2024-11-08 00:00:00-05:00  4666740000  6001.350098  \n",
       "2024-11-11 00:00:00-05:00  4333000000  5983.990234  \n",
       "2024-11-12 00:00:00-05:00  4243400000  5985.379883  \n",
       "2024-11-13 00:00:00-05:00  2513682000          NaN  \n",
       "\n",
       "[24335 rows x 6 columns]"
      ]
     },
     "execution_count": 70,
     "metadata": {},
     "output_type": "execute_result"
    }
   ],
   "source": [
    "sp500[\"Tomorrow\"] = sp500[\"Close\"].shift(-1)\n",
    "#sp500"
   ]
  },
  {
   "cell_type": "markdown",
   "id": "b4b9a7a3-d6ca-48a9-85e9-edaee4e2fe2f",
   "metadata": {},
   "source": [
    "Now, we can create a \"target\" column which will be a boolean. 1 representing if the price went up, 0 is the price went down compared to todays price."
   ]
  },
  {
   "cell_type": "code",
   "execution_count": 71,
   "id": "bc1fcec9-b510-416a-a8e5-e330978ccf66",
   "metadata": {},
   "outputs": [],
   "source": [
    "sp500[\"Target\"] = (sp500[\"Tomorrow\"] > sp500[\"Close\"]).astype(int)\n",
    "#sp500"
   ]
  },
  {
   "cell_type": "markdown",
   "id": "8a93cfca-6c9d-4b4c-904e-9b3c61c94e97",
   "metadata": {},
   "source": [
    "Because in stock markets, using old data might not be helpful predictions because it shifts too much, so we are going toonly use a subset of our data. "
   ]
  },
  {
   "cell_type": "code",
   "execution_count": 72,
   "id": "ce83c280-f265-47b9-a5cb-fa1f3cce72fc",
   "metadata": {},
   "outputs": [],
   "source": [
    "sp500 = sp500.loc[\"1990-1-01\":].copy()\n",
    "#sp500"
   ]
  },
  {
   "cell_type": "markdown",
   "id": "7e7328ad-5742-439f-b0e3-d9144fc532e8",
   "metadata": {},
   "source": [
    "# Step 3: Training Model\n",
    "\n",
    "Now we can start creating our machine learning model! Before we do this, we need to initialize our model and split it"
   ]
  },
  {
   "cell_type": "code",
   "execution_count": 73,
   "id": "b4f038f2-6a34-460e-b5f4-2fd03c90a964",
   "metadata": {},
   "outputs": [],
   "source": [
    "from sklearn.ensemble import RandomForestClassifier\n",
    "\n",
    "#initializing model\n",
    "# nestimators = # decision trees to train, higher = more accuracy\n",
    "# min_sample_split = protects overfitting, higher = less likely to over fit but not ass accurate\n",
    "# random_state = rerunning model gets same results\n",
    "model = RandomForestClassifier(n_estimators = 150,min_samples_split= 150, random_state = 1)"
   ]
  },
  {
   "cell_type": "markdown",
   "id": "221ebf62-e9bf-4ace-b51d-f1e477e5d7b4",
   "metadata": {},
   "source": [
    "One thing to note, because we are using time series data, if we use cross-validation, our traning predictions will look good, but our actual predictions on the test data will be horrible"
   ]
  },
  {
   "cell_type": "code",
   "execution_count": 74,
   "id": "9cc2b231-ad3b-49af-a2d8-d2335d76c6e3",
   "metadata": {},
   "outputs": [
    {
     "data": {
      "text/html": [
       "<style>#sk-container-id-2 {color: black;background-color: white;}#sk-container-id-2 pre{padding: 0;}#sk-container-id-2 div.sk-toggleable {background-color: white;}#sk-container-id-2 label.sk-toggleable__label {cursor: pointer;display: block;width: 100%;margin-bottom: 0;padding: 0.3em;box-sizing: border-box;text-align: center;}#sk-container-id-2 label.sk-toggleable__label-arrow:before {content: \"▸\";float: left;margin-right: 0.25em;color: #696969;}#sk-container-id-2 label.sk-toggleable__label-arrow:hover:before {color: black;}#sk-container-id-2 div.sk-estimator:hover label.sk-toggleable__label-arrow:before {color: black;}#sk-container-id-2 div.sk-toggleable__content {max-height: 0;max-width: 0;overflow: hidden;text-align: left;background-color: #f0f8ff;}#sk-container-id-2 div.sk-toggleable__content pre {margin: 0.2em;color: black;border-radius: 0.25em;background-color: #f0f8ff;}#sk-container-id-2 input.sk-toggleable__control:checked~div.sk-toggleable__content {max-height: 200px;max-width: 100%;overflow: auto;}#sk-container-id-2 input.sk-toggleable__control:checked~label.sk-toggleable__label-arrow:before {content: \"▾\";}#sk-container-id-2 div.sk-estimator input.sk-toggleable__control:checked~label.sk-toggleable__label {background-color: #d4ebff;}#sk-container-id-2 div.sk-label input.sk-toggleable__control:checked~label.sk-toggleable__label {background-color: #d4ebff;}#sk-container-id-2 input.sk-hidden--visually {border: 0;clip: rect(1px 1px 1px 1px);clip: rect(1px, 1px, 1px, 1px);height: 1px;margin: -1px;overflow: hidden;padding: 0;position: absolute;width: 1px;}#sk-container-id-2 div.sk-estimator {font-family: monospace;background-color: #f0f8ff;border: 1px dotted black;border-radius: 0.25em;box-sizing: border-box;margin-bottom: 0.5em;}#sk-container-id-2 div.sk-estimator:hover {background-color: #d4ebff;}#sk-container-id-2 div.sk-parallel-item::after {content: \"\";width: 100%;border-bottom: 1px solid gray;flex-grow: 1;}#sk-container-id-2 div.sk-label:hover label.sk-toggleable__label {background-color: #d4ebff;}#sk-container-id-2 div.sk-serial::before {content: \"\";position: absolute;border-left: 1px solid gray;box-sizing: border-box;top: 0;bottom: 0;left: 50%;z-index: 0;}#sk-container-id-2 div.sk-serial {display: flex;flex-direction: column;align-items: center;background-color: white;padding-right: 0.2em;padding-left: 0.2em;position: relative;}#sk-container-id-2 div.sk-item {position: relative;z-index: 1;}#sk-container-id-2 div.sk-parallel {display: flex;align-items: stretch;justify-content: center;background-color: white;position: relative;}#sk-container-id-2 div.sk-item::before, #sk-container-id-2 div.sk-parallel-item::before {content: \"\";position: absolute;border-left: 1px solid gray;box-sizing: border-box;top: 0;bottom: 0;left: 50%;z-index: -1;}#sk-container-id-2 div.sk-parallel-item {display: flex;flex-direction: column;z-index: 1;position: relative;background-color: white;}#sk-container-id-2 div.sk-parallel-item:first-child::after {align-self: flex-end;width: 50%;}#sk-container-id-2 div.sk-parallel-item:last-child::after {align-self: flex-start;width: 50%;}#sk-container-id-2 div.sk-parallel-item:only-child::after {width: 0;}#sk-container-id-2 div.sk-dashed-wrapped {border: 1px dashed gray;margin: 0 0.4em 0.5em 0.4em;box-sizing: border-box;padding-bottom: 0.4em;background-color: white;}#sk-container-id-2 div.sk-label label {font-family: monospace;font-weight: bold;display: inline-block;line-height: 1.2em;}#sk-container-id-2 div.sk-label-container {text-align: center;}#sk-container-id-2 div.sk-container {/* jupyter's `normalize.less` sets `[hidden] { display: none; }` but bootstrap.min.css set `[hidden] { display: none !important; }` so we also need the `!important` here to be able to override the default hidden behavior on the sphinx rendered scikit-learn.org. See: https://github.com/scikit-learn/scikit-learn/issues/21755 */display: inline-block !important;position: relative;}#sk-container-id-2 div.sk-text-repr-fallback {display: none;}</style><div id=\"sk-container-id-2\" class=\"sk-top-container\"><div class=\"sk-text-repr-fallback\"><pre>RandomForestClassifier(min_samples_split=150, n_estimators=150, random_state=1)</pre><b>In a Jupyter environment, please rerun this cell to show the HTML representation or trust the notebook. <br />On GitHub, the HTML representation is unable to render, please try loading this page with nbviewer.org.</b></div><div class=\"sk-container\" hidden><div class=\"sk-item\"><div class=\"sk-estimator sk-toggleable\"><input class=\"sk-toggleable__control sk-hidden--visually\" id=\"sk-estimator-id-2\" type=\"checkbox\" checked><label for=\"sk-estimator-id-2\" class=\"sk-toggleable__label sk-toggleable__label-arrow\">RandomForestClassifier</label><div class=\"sk-toggleable__content\"><pre>RandomForestClassifier(min_samples_split=150, n_estimators=150, random_state=1)</pre></div></div></div></div></div>"
      ],
      "text/plain": [
       "RandomForestClassifier(min_samples_split=150, n_estimators=150, random_state=1)"
      ]
     },
     "execution_count": 74,
     "metadata": {},
     "output_type": "execute_result"
    }
   ],
   "source": [
    "train = sp500.iloc[:-100]\n",
    "test = sp500.iloc[-100:]\n",
    "\n",
    "predictors = [\"Close\", \"Volume\", \"Open\", \"High\", \"Low\"]\n",
    "model.fit(train[predictors], train[\"Target\"])"
   ]
  },
  {
   "cell_type": "code",
   "execution_count": 75,
   "id": "c7eea2c7-7a4d-4afd-9582-246de9506ba7",
   "metadata": {},
   "outputs": [],
   "source": [
    "from sklearn.metrics import precision_score\n",
    "\n",
    "# did our market go up when we predicted?\n",
    "preds = model.predict(test[predictors])\n",
    "\n",
    "#preds"
   ]
  },
  {
   "cell_type": "markdown",
   "id": "89a51a7a-f73a-4467-a796-42613cba7e82",
   "metadata": {},
   "source": [
    "Here because our predictions are in a numpy array, we can convert them to a pandas series"
   ]
  },
  {
   "cell_type": "code",
   "execution_count": 76,
   "id": "61b6df7b-6c81-428a-b028-ac50a7866e69",
   "metadata": {},
   "outputs": [],
   "source": [
    "import pandas as pd\n",
    "preds= pd.Series(preds, index = test.index)"
   ]
  },
  {
   "cell_type": "code",
   "execution_count": 33,
   "id": "90c3057a-af17-4041-a39e-43f885c632bf",
   "metadata": {},
   "outputs": [
    {
     "data": {
      "text/plain": [
       "0.7777777777777778"
      ]
     },
     "execution_count": 33,
     "metadata": {},
     "output_type": "execute_result"
    }
   ],
   "source": [
    "precision_score(test[\"Target\"], preds)"
   ]
  },
  {
   "cell_type": "markdown",
   "id": "a262bed5-66a4-4a67-98a7-0e1db169d221",
   "metadata": {},
   "source": [
    "A score of 77% accuracy is okay, but we can do it better"
   ]
  },
  {
   "cell_type": "code",
   "execution_count": 77,
   "id": "92e48bb9-e6a5-4528-bb25-6ddbb1ee2e73",
   "metadata": {},
   "outputs": [],
   "source": [
    "combined = pd.concat([test[\"Target\"], preds], axis = 1)"
   ]
  },
  {
   "cell_type": "code",
   "execution_count": 78,
   "id": "95369861-f273-41d4-8708-5cbc9518e120",
   "metadata": {},
   "outputs": [
    {
     "data": {
      "text/plain": [
       "<Axes: xlabel='Date'>"
      ]
     },
     "execution_count": 78,
     "metadata": {},
     "output_type": "execute_result"
    },
    {
     "data": {
      "image/png": "[encoded data removed]",
      "text/plain": [
       "<Figure size 640x480 with 1 Axes>"
      ]
     },
     "metadata": {},
     "output_type": "display_data"
    }
   ],
   "source": [
    "combined.plot()"
   ]
  },
  {
   "cell_type": "markdown",
   "id": "e59f4b96-d759-4abe-af04-d6092b8189ab",
   "metadata": {},
   "source": [
    "Orange is predictions, blue is what happened. We predicted that the price would usually go down, but it mainly went up."
   ]
  },
  {
   "cell_type": "markdown",
   "id": "92a183e8-1477-4007-b771-cefbbf63b7f0",
   "metadata": {},
   "source": [
    "# Step 4: Building a Better Model\n",
    "\n",
    "Now, lets remember our testing data only including those last 100 days. If we realisticaly want to predict, we want to be able to testn multiple years, testing larger situations which gives us more confidence over the years. So we can try backtesting"
   ]
  },
  {
   "cell_type": "code",
   "execution_count": 79,
   "id": "bef31437-27ec-4860-9562-be5ebaf96bfc",
   "metadata": {},
   "outputs": [],
   "source": [
    "def predict(train, test, predictors, model):\n",
    "    model.fit(train[predictors], train[\"Target\"])\n",
    "    preds = model.predict(test[predictors])\n",
    "    preds = pd.Series(preds, index = test.index, name = \"Predictions\")\n",
    "    combined = pd.concat([test[\"Target\"], preds], axis = 1)\n",
    "    return combined"
   ]
  },
  {
   "cell_type": "code",
   "execution_count": 80,
   "id": "20e5b92c-e1db-4096-bf86-0dca74612598",
   "metadata": {},
   "outputs": [],
   "source": [
    "def backtest(data, model, predictors, start = 2500, step = 250):\n",
    "    all_predictions = []\n",
    "\n",
    "    for i in range(start, data.shape[0], step):\n",
    "        train = data.iloc[0:i].copy()\n",
    "        test = data.iloc[i:(i + step)].copy()\n",
    "        predictions = predict(train, test, predictors, model)\n",
    "        all_predictions.append(predictions)\n",
    "\n",
    "    return pd.concat(all_predictions)"
   ]
  },
  {
   "cell_type": "code",
   "execution_count": null,
   "id": "78e066b5-f639-44dd-bd7b-3a1ad6a8ea07",
   "metadata": {},
   "outputs": [],
   "source": [
    "predictions = backtest(sp500, model, predictors)"
   ]
  },
  {
   "cell_type": "code",
   "execution_count": null,
   "id": "24c93e68-f8e3-45d9-a4f4-1125f5f0b39c",
   "metadata": {},
   "outputs": [],
   "source": [
    "predictions[\"Predictions\"].value_counts()"
   ]
  },
  {
   "cell_type": "code",
   "execution_count": null,
   "id": "b484836f-e767-44ad-ab4b-a187f2fb2321",
   "metadata": {},
   "outputs": [],
   "source": [
    "precision_score(predictions[\"Target\"], predictions[\"Predictions\"])"
   ]
  },
  {
   "cell_type": "markdown",
   "id": "d8e063c7-d21f-4b36-ab13-04491ee900b8",
   "metadata": {},
   "source": [
    "Across all these 6k training rows, we were about 53% accurate. When we said the market would go up, it went up about 53% of those times"
   ]
  },
  {
   "cell_type": "code",
   "execution_count": null,
   "id": "34dad9c4-19ab-4da5-ae67-9c1d60ddb37e",
   "metadata": {},
   "outputs": [],
   "source": [
    "predictions[\"Target\"].value_counts()/predictions.shape[0]"
   ]
  },
  {
   "cell_type": "markdown",
   "id": "3435aa3b-c264-4a7a-860b-f8a76878c518",
   "metadata": {},
   "source": [
    "Now, that we backtested, we have confidence in our model and know how we can improve our accuracy"
   ]
  },
  {
   "cell_type": "markdown",
   "id": "5dde4d4d-7a0f-4a9c-a284-7da36c0d1e99",
   "metadata": {},
   "source": [
    "# Step 5: Adding more Predictors\n",
    "\n",
    "We can improve our model by adding in more predictors. Lets try it out!"
   ]
  },
  {
   "cell_type": "markdown",
   "id": "9efa4b8d-cc56-4d6a-808b-8a9c2e90428f",
   "metadata": {},
   "source": [
    "Here, we can create a variety of rolling averages. We will calculate mean close price in 2, 5, 60, 250 and 1000 days. We will then find the closing ratio between todays closing price and that in those periods. "
   ]
  },
  {
   "cell_type": "code",
   "execution_count": 53,
   "id": "dc1a3923-811d-4114-9113-a7098a1314ef",
   "metadata": {},
   "outputs": [],
   "source": [
    "horizons = [2, 5, 60, 250, 1000]\n",
    "new_predictors=[]\n",
    "\n",
    "for horizon in horizons:\n",
    "    rolling_averages = sp500.rolling(horizon).mean()\n",
    "\n",
    "    ratio_column = f\"Close_Ratio_{horizon}\"\n",
    "    sp500[ratio_column] = sp500[\"Close\"] / rolling_averages[\"Close\"]\n",
    "\n",
    "    trend_column = f\"Trend_{horizon}\"\n",
    "    sp500[trend_column] = sp500.shift(1).rolling(horizon).sum()[\"Target\"]\n",
    "\n",
    "    new_predictors += [ratio_column, trend_column]\n",
    "\n",
    "#sp500"
   ]
  },
  {
   "cell_type": "code",
   "execution_count": 55,
   "id": "40e1f43a-5649-4f5e-82b0-41bc21d3318b",
   "metadata": {},
   "outputs": [],
   "source": [
    "sp500 = sp500.dropna()"
   ]
  },
  {
   "cell_type": "markdown",
   "id": "62baf178-665b-4249-b483-c022f0f05cdd",
   "metadata": {},
   "source": [
    "# Step 6 : Improving Model\n",
    "\n",
    "Now that we added predictors to our sp500 ds, we can now improve our model to get better predictions"
   ]
  },
  {
   "cell_type": "code",
   "execution_count": null,
   "id": "0ab00a82-c89d-451f-9a4c-4aaa27e93cb2",
   "metadata": {},
   "outputs": [],
   "source": [
    "model = RandomForestClassifier(n_estimators = 150,min_samples_split= 150, random_state = 1)"
   ]
  },
  {
   "cell_type": "code",
   "execution_count": 56,
   "id": "c705d7d6-2178-4cd5-93ed-2b8439b0a34e",
   "metadata": {},
   "outputs": [],
   "source": [
    "def predict(train, test, predictors, model):\n",
    "    model.fit(train[predictors], train[\"Target\"])\n",
    "    # returns prob that the stock price go up tomorrow\n",
    "    preds = model.predict_proba(test[predictors])[:,1]\n",
    "    preds[preds >= .6] = 1\n",
    "    preds[preds < .6] = 0\n",
    "    preds = pd.Series(preds, index = test.index, name = \"Predictions\")\n",
    "    combined = pd.concat([test[\"Target\"], preds], axis = 1)\n",
    "    return combined"
   ]
  },
  {
   "cell_type": "code",
   "execution_count": 57,
   "id": "9f6fa721-fa45-40ac-8c49-56b95b0d419e",
   "metadata": {},
   "outputs": [],
   "source": [
    "predictions = backtest(sp500, model, new_predictors)"
   ]
  },
  {
   "cell_type": "code",
   "execution_count": 58,
   "id": "2bc7c2b9-380c-4cba-9379-cee24f562290",
   "metadata": {},
   "outputs": [
    {
     "data": {
      "text/plain": [
       "Predictions\n",
       "0.0    4730\n",
       "1.0     553\n",
       "Name: count, dtype: int64"
      ]
     },
     "execution_count": 58,
     "metadata": {},
     "output_type": "execute_result"
    }
   ],
   "source": [
    "predictions[\"Predictions\"].value_counts()"
   ]
  },
  {
   "cell_type": "code",
   "execution_count": 59,
   "id": "92b6aa36-55fb-4f46-bc17-4ff9807f7f8c",
   "metadata": {},
   "outputs": [
    {
     "data": {
      "text/plain": [
       "0.5895117540687161"
      ]
     },
     "execution_count": 59,
     "metadata": {},
     "output_type": "execute_result"
    }
   ],
   "source": [
    "precision_score(predictions[\"Target\"], predictions[\"Predictions\"])"
   ]
  },
  {
   "cell_type": "code",
   "execution_count": null,
   "id": "57687525-7cf6-43e5-984c-6436c1dc722f",
   "metadata": {},
   "outputs": [],
   "source": []
  }
 ],
 "metadata": {
  "kernelspec": {
   "display_name": "Python 3 (ipykernel)",
   "language": "python",
   "name": "python3"
  },
  "language_info": {
   "codemirror_mode": {
    "name": "ipython",
    "version": 3
   },
   "file_extension": ".py",
   "mimetype": "text/x-python",
   "name": "python",
   "nbconvert_exporter": "python",
   "pygments_lexer": "ipython3",
   "version": "3.11.7"
  }
 },
 "nbformat": 4,
 "nbformat_minor": 5
}
